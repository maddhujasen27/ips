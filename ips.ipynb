{
 "cells": [
  {
   "cell_type": "code",
   "execution_count": 1,
   "id": "04cde19d-00f8-4aa9-a189-d11d4623092e",
   "metadata": {},
   "outputs": [
    {
     "name": "stdout",
     "output_type": "stream",
     "text": [
      "Requirement already satisfied: googletrans==4.0.0-rc1 in /Users/maddhujasen27/opt/anaconda3/envs/tensorflow/lib/python3.9/site-packages (4.0.0rc1)\n",
      "Requirement already satisfied: httpx==0.13.3 in /Users/maddhujasen27/opt/anaconda3/envs/tensorflow/lib/python3.9/site-packages (from googletrans==4.0.0-rc1) (0.13.3)\n",
      "Requirement already satisfied: httpcore==0.9.* in /Users/maddhujasen27/opt/anaconda3/envs/tensorflow/lib/python3.9/site-packages (from httpx==0.13.3->googletrans==4.0.0-rc1) (0.9.1)\n",
      "Requirement already satisfied: idna==2.* in /Users/maddhujasen27/opt/anaconda3/envs/tensorflow/lib/python3.9/site-packages (from httpx==0.13.3->googletrans==4.0.0-rc1) (2.10)\n",
      "Requirement already satisfied: hstspreload in /Users/maddhujasen27/opt/anaconda3/envs/tensorflow/lib/python3.9/site-packages (from httpx==0.13.3->googletrans==4.0.0-rc1) (2024.6.1)\n",
      "Requirement already satisfied: rfc3986<2,>=1.3 in /Users/maddhujasen27/opt/anaconda3/envs/tensorflow/lib/python3.9/site-packages (from httpx==0.13.3->googletrans==4.0.0-rc1) (1.5.0)\n",
      "Requirement already satisfied: certifi in /Users/maddhujasen27/opt/anaconda3/envs/tensorflow/lib/python3.9/site-packages (from httpx==0.13.3->googletrans==4.0.0-rc1) (2023.7.22)\n",
      "Requirement already satisfied: sniffio in /Users/maddhujasen27/opt/anaconda3/envs/tensorflow/lib/python3.9/site-packages (from httpx==0.13.3->googletrans==4.0.0-rc1) (1.2.0)\n",
      "Requirement already satisfied: chardet==3.* in /Users/maddhujasen27/opt/anaconda3/envs/tensorflow/lib/python3.9/site-packages (from httpx==0.13.3->googletrans==4.0.0-rc1) (3.0.4)\n",
      "Requirement already satisfied: h2==3.* in /Users/maddhujasen27/opt/anaconda3/envs/tensorflow/lib/python3.9/site-packages (from httpcore==0.9.*->httpx==0.13.3->googletrans==4.0.0-rc1) (3.2.0)\n",
      "Requirement already satisfied: h11<0.10,>=0.8 in /Users/maddhujasen27/opt/anaconda3/envs/tensorflow/lib/python3.9/site-packages (from httpcore==0.9.*->httpx==0.13.3->googletrans==4.0.0-rc1) (0.9.0)\n",
      "Requirement already satisfied: hpack<4,>=3.0 in /Users/maddhujasen27/opt/anaconda3/envs/tensorflow/lib/python3.9/site-packages (from h2==3.*->httpcore==0.9.*->httpx==0.13.3->googletrans==4.0.0-rc1) (3.0.0)\n",
      "Requirement already satisfied: hyperframe<6,>=5.2.0 in /Users/maddhujasen27/opt/anaconda3/envs/tensorflow/lib/python3.9/site-packages (from h2==3.*->httpcore==0.9.*->httpx==0.13.3->googletrans==4.0.0-rc1) (5.2.0)\n"
     ]
    }
   ],
   "source": [
    "!pip install googletrans==4.0.0-rc1"
   ]
  },
  {
   "cell_type": "code",
   "execution_count": 2,
   "id": "07b0b114-e871-4ab6-a7be-14ef630de3a7",
   "metadata": {},
   "outputs": [],
   "source": [
    "import pickle\n",
    "from googletrans import Translator"
   ]
  },
  {
   "cell_type": "code",
   "execution_count": 3,
   "id": "c9d94ad5-c7ff-49c7-8a3b-644eab2a749c",
   "metadata": {},
   "outputs": [],
   "source": [
    "#Reading the file\n",
    "file_name = 'ips.pkl'\n",
    "\n",
    "with open(file_name, 'rb') as f:\n",
    "  data = pickle.load(f)"
   ]
  },
  {
   "cell_type": "code",
   "execution_count": 4,
   "id": "9d062f33-a0dc-457f-856d-1fd98edcdc39",
   "metadata": {},
   "outputs": [
    {
     "data": {
      "text/html": [
       "<div>\n",
       "<style scoped>\n",
       "    .dataframe tbody tr th:only-of-type {\n",
       "        vertical-align: middle;\n",
       "    }\n",
       "\n",
       "    .dataframe tbody tr th {\n",
       "        vertical-align: top;\n",
       "    }\n",
       "\n",
       "    .dataframe thead th {\n",
       "        text-align: right;\n",
       "    }\n",
       "</style>\n",
       "<table border=\"1\" class=\"dataframe\">\n",
       "  <thead>\n",
       "    <tr style=\"text-align: right;\">\n",
       "      <th></th>\n",
       "      <th>companyName</th>\n",
       "      <th>companyUrl</th>\n",
       "      <th>jobTitle</th>\n",
       "      <th>dateRange</th>\n",
       "      <th>location</th>\n",
       "      <th>description</th>\n",
       "      <th>logoUrl</th>\n",
       "      <th>label</th>\n",
       "    </tr>\n",
       "    <tr>\n",
       "      <th>id</th>\n",
       "      <th></th>\n",
       "      <th></th>\n",
       "      <th></th>\n",
       "      <th></th>\n",
       "      <th></th>\n",
       "      <th></th>\n",
       "      <th></th>\n",
       "      <th></th>\n",
       "    </tr>\n",
       "  </thead>\n",
       "  <tbody>\n",
       "    <tr>\n",
       "      <th>548398365_0</th>\n",
       "      <td>TEHTRIS</td>\n",
       "      <td>https://www.linkedin.com/company/tehtris/</td>\n",
       "      <td>R&amp;D Cybersecurity Consultant</td>\n",
       "      <td>oct. 2021 – Aujourd’hui</td>\n",
       "      <td>Bordeaux, Nouvelle-Aquitaine, France</td>\n",
       "      <td>None</td>\n",
       "      <td>https://media-exp1.licdn.com/dms/image/C4D0BAQ...</td>\n",
       "      <td>NaN</td>\n",
       "    </tr>\n",
       "    <tr>\n",
       "      <th>548398365_1</th>\n",
       "      <td>CHEOPS TECHNOLOGY</td>\n",
       "      <td>https://www.linkedin.com/company/cheops-techno...</td>\n",
       "      <td>Ingénieur en data mining</td>\n",
       "      <td>sept. 2020 – sept. 2021</td>\n",
       "      <td>Bordeaux, Nouvelle-Aquitaine, France</td>\n",
       "      <td>None</td>\n",
       "      <td>https://media-exp1.licdn.com/dms/image/C560BAQ...</td>\n",
       "      <td>2.0</td>\n",
       "    </tr>\n",
       "    <tr>\n",
       "      <th>551303934_0</th>\n",
       "      <td>ALTEN</td>\n",
       "      <td>https://www.linkedin.com/company/alten/</td>\n",
       "      <td>Stagiaire ingénieur en intelligence artificiel...</td>\n",
       "      <td>juil. 2021 – Aujourd’hui</td>\n",
       "      <td>Rennes, Bretagne, France</td>\n",
       "      <td>Conception et programmation pour une plateform...</td>\n",
       "      <td>https://media-exp1.licdn.com/dms/image/C4D0BAQ...</td>\n",
       "      <td>4.0</td>\n",
       "    </tr>\n",
       "    <tr>\n",
       "      <th>551303934_1</th>\n",
       "      <td>FRANCE SECURITE</td>\n",
       "      <td>https://www.linkedin.com/company/france-securite/</td>\n",
       "      <td>Stagiaire en développement logiciel</td>\n",
       "      <td>juin 2019 – août 2019</td>\n",
       "      <td>Bordeaux, Aquitaine, France</td>\n",
       "      <td>Développement et mises à jour d’applications c...</td>\n",
       "      <td>https://media-exp1.licdn.com/dms/image/C4D0BAQ...</td>\n",
       "      <td>2.0</td>\n",
       "    </tr>\n",
       "    <tr>\n",
       "      <th>551303934_2</th>\n",
       "      <td>OASU (Observatoire Aquitain des Sciences de l'...</td>\n",
       "      <td>None</td>\n",
       "      <td>Stagiaire en développement Web</td>\n",
       "      <td>avr. 2018 – juin 2018</td>\n",
       "      <td>Bordeaux, Aquitaine, France</td>\n",
       "      <td>Création et évolution d’une application Web d’...</td>\n",
       "      <td></td>\n",
       "      <td>1.0</td>\n",
       "    </tr>\n",
       "  </tbody>\n",
       "</table>\n",
       "</div>"
      ],
      "text/plain": [
       "                                                   companyName  \\\n",
       "id                                                               \n",
       "548398365_0                                            TEHTRIS   \n",
       "548398365_1                                  CHEOPS TECHNOLOGY   \n",
       "551303934_0                                              ALTEN   \n",
       "551303934_1                                    FRANCE SECURITE   \n",
       "551303934_2  OASU (Observatoire Aquitain des Sciences de l'...   \n",
       "\n",
       "                                                    companyUrl  \\\n",
       "id                                                               \n",
       "548398365_0          https://www.linkedin.com/company/tehtris/   \n",
       "548398365_1  https://www.linkedin.com/company/cheops-techno...   \n",
       "551303934_0            https://www.linkedin.com/company/alten/   \n",
       "551303934_1  https://www.linkedin.com/company/france-securite/   \n",
       "551303934_2                                               None   \n",
       "\n",
       "                                                      jobTitle  \\\n",
       "id                                                               \n",
       "548398365_0                       R&D Cybersecurity Consultant   \n",
       "548398365_1                           Ingénieur en data mining   \n",
       "551303934_0  Stagiaire ingénieur en intelligence artificiel...   \n",
       "551303934_1                Stagiaire en développement logiciel   \n",
       "551303934_2                     Stagiaire en développement Web   \n",
       "\n",
       "                            dateRange                              location  \\\n",
       "id                                                                            \n",
       "548398365_0   oct. 2021 – Aujourd’hui  Bordeaux, Nouvelle-Aquitaine, France   \n",
       "548398365_1   sept. 2020 – sept. 2021  Bordeaux, Nouvelle-Aquitaine, France   \n",
       "551303934_0  juil. 2021 – Aujourd’hui              Rennes, Bretagne, France   \n",
       "551303934_1     juin 2019 – août 2019           Bordeaux, Aquitaine, France   \n",
       "551303934_2     avr. 2018 – juin 2018           Bordeaux, Aquitaine, France   \n",
       "\n",
       "                                                   description  \\\n",
       "id                                                               \n",
       "548398365_0                                               None   \n",
       "548398365_1                                               None   \n",
       "551303934_0  Conception et programmation pour une plateform...   \n",
       "551303934_1  Développement et mises à jour d’applications c...   \n",
       "551303934_2  Création et évolution d’une application Web d’...   \n",
       "\n",
       "                                                       logoUrl  label  \n",
       "id                                                                     \n",
       "548398365_0  https://media-exp1.licdn.com/dms/image/C4D0BAQ...    NaN  \n",
       "548398365_1  https://media-exp1.licdn.com/dms/image/C560BAQ...    2.0  \n",
       "551303934_0  https://media-exp1.licdn.com/dms/image/C4D0BAQ...    4.0  \n",
       "551303934_1  https://media-exp1.licdn.com/dms/image/C4D0BAQ...    2.0  \n",
       "551303934_2                                                       1.0  "
      ]
     },
     "execution_count": 4,
     "metadata": {},
     "output_type": "execute_result"
    }
   ],
   "source": [
    "data.head()"
   ]
  },
  {
   "cell_type": "code",
   "execution_count": 5,
   "id": "bb8ae7b2-90a2-4d02-bc4b-ef8e6531c42e",
   "metadata": {},
   "outputs": [
    {
     "data": {
      "text/html": [
       "<div>\n",
       "<style scoped>\n",
       "    .dataframe tbody tr th:only-of-type {\n",
       "        vertical-align: middle;\n",
       "    }\n",
       "\n",
       "    .dataframe tbody tr th {\n",
       "        vertical-align: top;\n",
       "    }\n",
       "\n",
       "    .dataframe thead th {\n",
       "        text-align: right;\n",
       "    }\n",
       "</style>\n",
       "<table border=\"1\" class=\"dataframe\">\n",
       "  <thead>\n",
       "    <tr style=\"text-align: right;\">\n",
       "      <th></th>\n",
       "      <th>jobTitle</th>\n",
       "      <th>description</th>\n",
       "      <th>label</th>\n",
       "    </tr>\n",
       "    <tr>\n",
       "      <th>id</th>\n",
       "      <th></th>\n",
       "      <th></th>\n",
       "      <th></th>\n",
       "    </tr>\n",
       "  </thead>\n",
       "  <tbody>\n",
       "    <tr>\n",
       "      <th>548398365_0</th>\n",
       "      <td>R&amp;D Cybersecurity Consultant</td>\n",
       "      <td>None</td>\n",
       "      <td>NaN</td>\n",
       "    </tr>\n",
       "    <tr>\n",
       "      <th>548398365_1</th>\n",
       "      <td>Ingénieur en data mining</td>\n",
       "      <td>None</td>\n",
       "      <td>2.0</td>\n",
       "    </tr>\n",
       "    <tr>\n",
       "      <th>551303934_0</th>\n",
       "      <td>Stagiaire ingénieur en intelligence artificiel...</td>\n",
       "      <td>Conception et programmation pour une plateform...</td>\n",
       "      <td>4.0</td>\n",
       "    </tr>\n",
       "    <tr>\n",
       "      <th>551303934_1</th>\n",
       "      <td>Stagiaire en développement logiciel</td>\n",
       "      <td>Développement et mises à jour d’applications c...</td>\n",
       "      <td>2.0</td>\n",
       "    </tr>\n",
       "    <tr>\n",
       "      <th>551303934_2</th>\n",
       "      <td>Stagiaire en développement Web</td>\n",
       "      <td>Création et évolution d’une application Web d’...</td>\n",
       "      <td>1.0</td>\n",
       "    </tr>\n",
       "  </tbody>\n",
       "</table>\n",
       "</div>"
      ],
      "text/plain": [
       "                                                      jobTitle  \\\n",
       "id                                                               \n",
       "548398365_0                       R&D Cybersecurity Consultant   \n",
       "548398365_1                           Ingénieur en data mining   \n",
       "551303934_0  Stagiaire ingénieur en intelligence artificiel...   \n",
       "551303934_1                Stagiaire en développement logiciel   \n",
       "551303934_2                     Stagiaire en développement Web   \n",
       "\n",
       "                                                   description  label  \n",
       "id                                                                     \n",
       "548398365_0                                               None    NaN  \n",
       "548398365_1                                               None    2.0  \n",
       "551303934_0  Conception et programmation pour une plateform...    4.0  \n",
       "551303934_1  Développement et mises à jour d’applications c...    2.0  \n",
       "551303934_2  Création et évolution d’une application Web d’...    1.0  "
      ]
     },
     "execution_count": 5,
     "metadata": {},
     "output_type": "execute_result"
    }
   ],
   "source": [
    "#dropping the unwanted columns\n",
    "df = data.drop(columns=[ 'companyName','companyUrl','location','dateRange','logoUrl'])\n",
    "df.head()"
   ]
  },
  {
   "cell_type": "code",
   "execution_count": 6,
   "id": "8d5f14bc-7b0e-411a-827f-04c6a32aa83a",
   "metadata": {},
   "outputs": [
    {
     "data": {
      "text/plain": [
       "(11287, 3)"
      ]
     },
     "execution_count": 6,
     "metadata": {},
     "output_type": "execute_result"
    }
   ],
   "source": [
    "df.shape"
   ]
  },
  {
   "cell_type": "code",
   "execution_count": 7,
   "id": "c6640922-23b0-4682-aef5-d293464e4c6b",
   "metadata": {},
   "outputs": [
    {
     "data": {
      "text/html": [
       "<div>\n",
       "<style scoped>\n",
       "    .dataframe tbody tr th:only-of-type {\n",
       "        vertical-align: middle;\n",
       "    }\n",
       "\n",
       "    .dataframe tbody tr th {\n",
       "        vertical-align: top;\n",
       "    }\n",
       "\n",
       "    .dataframe thead th {\n",
       "        text-align: right;\n",
       "    }\n",
       "</style>\n",
       "<table border=\"1\" class=\"dataframe\">\n",
       "  <thead>\n",
       "    <tr style=\"text-align: right;\">\n",
       "      <th></th>\n",
       "      <th>jobTitle</th>\n",
       "      <th>description</th>\n",
       "      <th>label</th>\n",
       "    </tr>\n",
       "    <tr>\n",
       "      <th>id</th>\n",
       "      <th></th>\n",
       "      <th></th>\n",
       "      <th></th>\n",
       "    </tr>\n",
       "  </thead>\n",
       "  <tbody>\n",
       "    <tr>\n",
       "      <th>548398365_0</th>\n",
       "      <td>R&amp;D Cybersecurity Consultant</td>\n",
       "      <td></td>\n",
       "      <td>NaN</td>\n",
       "    </tr>\n",
       "    <tr>\n",
       "      <th>548398365_1</th>\n",
       "      <td>Ingénieur en data mining</td>\n",
       "      <td></td>\n",
       "      <td>2.0</td>\n",
       "    </tr>\n",
       "    <tr>\n",
       "      <th>551303934_0</th>\n",
       "      <td>Stagiaire ingénieur en intelligence artificiel...</td>\n",
       "      <td>Conception et programmation pour une plateform...</td>\n",
       "      <td>4.0</td>\n",
       "    </tr>\n",
       "    <tr>\n",
       "      <th>551303934_1</th>\n",
       "      <td>Stagiaire en développement logiciel</td>\n",
       "      <td>Développement et mises à jour d’applications c...</td>\n",
       "      <td>2.0</td>\n",
       "    </tr>\n",
       "    <tr>\n",
       "      <th>551303934_2</th>\n",
       "      <td>Stagiaire en développement Web</td>\n",
       "      <td>Création et évolution d’une application Web d’...</td>\n",
       "      <td>1.0</td>\n",
       "    </tr>\n",
       "  </tbody>\n",
       "</table>\n",
       "</div>"
      ],
      "text/plain": [
       "                                                      jobTitle  \\\n",
       "id                                                               \n",
       "548398365_0                       R&D Cybersecurity Consultant   \n",
       "548398365_1                           Ingénieur en data mining   \n",
       "551303934_0  Stagiaire ingénieur en intelligence artificiel...   \n",
       "551303934_1                Stagiaire en développement logiciel   \n",
       "551303934_2                     Stagiaire en développement Web   \n",
       "\n",
       "                                                   description  label  \n",
       "id                                                                     \n",
       "548398365_0                                                       NaN  \n",
       "548398365_1                                                       2.0  \n",
       "551303934_0  Conception et programmation pour une plateform...    4.0  \n",
       "551303934_1  Développement et mises à jour d’applications c...    2.0  \n",
       "551303934_2  Création et évolution d’une application Web d’...    1.0  "
      ]
     },
     "execution_count": 7,
     "metadata": {},
     "output_type": "execute_result"
    }
   ],
   "source": [
    "df['jobTitle'].fillna('', inplace=True)\n",
    "df['description'].fillna('', inplace=True)\n",
    "df.head()"
   ]
  },
  {
   "cell_type": "code",
   "execution_count": 8,
   "id": "12ecb7cb-c4dd-46ec-bdfe-e4f5dd656b3a",
   "metadata": {},
   "outputs": [
    {
     "data": {
      "text/plain": [
       "(7587, 3)"
      ]
     },
     "execution_count": 8,
     "metadata": {},
     "output_type": "execute_result"
    }
   ],
   "source": [
    "df = df.dropna(subset=['label'])\n",
    "df = df.reset_index(drop=True)\n",
    "df.shape"
   ]
  },
  {
   "cell_type": "code",
   "execution_count": 9,
   "id": "09a246d6-af4b-4141-8022-1210b464fde9",
   "metadata": {},
   "outputs": [
    {
     "data": {
      "text/plain": [
       "(500, 3)"
      ]
     },
     "execution_count": 9,
     "metadata": {},
     "output_type": "execute_result"
    }
   ],
   "source": [
    "#df = df.sample(3000, random_state=1)  # random_state is set for reproducibility\n",
    "#df = df.reset_index(drop=True)\n",
    "#df.shape"
   ]
  },
  {
   "cell_type": "code",
   "execution_count": 10,
   "id": "a3ba1615-722b-4b5b-b8a1-105663afa390",
   "metadata": {},
   "outputs": [],
   "source": [
    "df['jobTitle'] = df['jobTitle'].apply(lambda x: translator.translate(x, src='fr', dest='en').text)\n",
    "df['description'] = df['description'].apply(lambda x: translator.translate(x, src='fr', dest='en').text)\n"
   ]
  },
  {
   "cell_type": "code",
   "execution_count": 12,
   "id": "8aa6f3de-f6ff-4f3c-8db9-3efd2a2e84ba",
   "metadata": {},
   "outputs": [
    {
     "data": {
      "text/html": [
       "<div>\n",
       "<style scoped>\n",
       "    .dataframe tbody tr th:only-of-type {\n",
       "        vertical-align: middle;\n",
       "    }\n",
       "\n",
       "    .dataframe tbody tr th {\n",
       "        vertical-align: top;\n",
       "    }\n",
       "\n",
       "    .dataframe thead th {\n",
       "        text-align: right;\n",
       "    }\n",
       "</style>\n",
       "<table border=\"1\" class=\"dataframe\">\n",
       "  <thead>\n",
       "    <tr style=\"text-align: right;\">\n",
       "      <th></th>\n",
       "      <th>jobTitle</th>\n",
       "      <th>description</th>\n",
       "      <th>label</th>\n",
       "    </tr>\n",
       "  </thead>\n",
       "  <tbody>\n",
       "    <tr>\n",
       "      <th>0</th>\n",
       "      <td>Study and developpement engineer</td>\n",
       "      <td></td>\n",
       "      <td>0.0</td>\n",
       "    </tr>\n",
       "    <tr>\n",
       "      <th>1</th>\n",
       "      <td>CEO Manager Datacub Agency Lille</td>\n",
       "      <td>DATACUB est né de l'association d'un Expert en...</td>\n",
       "      <td>2.0</td>\n",
       "    </tr>\n",
       "    <tr>\n",
       "      <th>2</th>\n",
       "      <td>Continuous improvement engineer internship</td>\n",
       "      <td>Déploiement de la culture performance avec:\\n\\...</td>\n",
       "      <td>0.0</td>\n",
       "    </tr>\n",
       "    <tr>\n",
       "      <th>3</th>\n",
       "      <td>Data Scientist</td>\n",
       "      <td>Creation and deployment of a suite of algorith...</td>\n",
       "      <td>4.0</td>\n",
       "    </tr>\n",
       "    <tr>\n",
       "      <th>4</th>\n",
       "      <td>Object Languages ​​Developer, Databases</td>\n",
       "      <td>Informaticien salle de marchés\\nDéveloppements...</td>\n",
       "      <td>1.0</td>\n",
       "    </tr>\n",
       "  </tbody>\n",
       "</table>\n",
       "</div>"
      ],
      "text/plain": [
       "                                     jobTitle  \\\n",
       "0            Study and developpement engineer   \n",
       "1            CEO Manager Datacub Agency Lille   \n",
       "2  Continuous improvement engineer internship   \n",
       "3                              Data Scientist   \n",
       "4     Object Languages ​​Developer, Databases   \n",
       "\n",
       "                                         description  label  \n",
       "0                                                       0.0  \n",
       "1  DATACUB est né de l'association d'un Expert en...    2.0  \n",
       "2  Déploiement de la culture performance avec:\\n\\...    0.0  \n",
       "3  Creation and deployment of a suite of algorith...    4.0  \n",
       "4  Informaticien salle de marchés\\nDéveloppements...    1.0  "
      ]
     },
     "execution_count": 12,
     "metadata": {},
     "output_type": "execute_result"
    }
   ],
   "source": [
    "df.head()"
   ]
  },
  {
   "cell_type": "code",
   "execution_count": 13,
   "id": "a3f414ba-ba98-4f84-bd14-3c0db164583f",
   "metadata": {},
   "outputs": [
    {
     "name": "stdout",
     "output_type": "stream",
     "text": [
      "Original French Text: Bonjour tout le monde\n",
      "Translated English Text: Hello everybody\n"
     ]
    }
   ],
   "source": [
    "french_text = \"Bonjour tout le monde\"\n",
    "\n",
    "# Translate text from French to English\n",
    "translation = translator.translate(french_text, src='fr', dest='en')\n",
    "\n",
    "# Print the original French text and its translation\n",
    "print(\"Original French Text:\", french_text)\n",
    "print(\"Translated English Text:\", translation.text)"
   ]
  },
  {
   "cell_type": "code",
   "execution_count": null,
   "id": "96e07d3c-6558-44f9-aa5c-91ba52b09fb3",
   "metadata": {},
   "outputs": [],
   "source": []
  }
 ],
 "metadata": {
  "kernelspec": {
   "display_name": "Python 3 (ipykernel)",
   "language": "python",
   "name": "python3"
  },
  "language_info": {
   "codemirror_mode": {
    "name": "ipython",
    "version": 3
   },
   "file_extension": ".py",
   "mimetype": "text/x-python",
   "name": "python",
   "nbconvert_exporter": "python",
   "pygments_lexer": "ipython3",
   "version": "3.9.15"
  }
 },
 "nbformat": 4,
 "nbformat_minor": 5
}
